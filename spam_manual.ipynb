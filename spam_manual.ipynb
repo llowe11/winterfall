{
 "cells": [
  {
   "cell_type": "code",
   "execution_count": 42,
   "metadata": {},
   "outputs": [],
   "source": [
    "import pandas as pd\n",
    "import numpy as np\n",
    "import matplotlib.pyplot as plt\n",
    "import seaborn as sns"
   ]
  },
  {
   "cell_type": "code",
   "execution_count": 43,
   "metadata": {},
   "outputs": [],
   "source": [
    "\n",
    "custom_spam_dict = {\n",
    "    \"money\": 10,\n",
    "    \"free\": 11,\n",
    "    \"congratulations\": 9,\n",
    "    \"hello\": 3,\n",
    "    \"husband\": 2,\n",
    "    \"friend\": 2,\n",
    "    \"dear\": 2,\n",
    "    \"hello\": 2,\n",
    "}\n",
    "\n",
    "custom_not_spam_dict = {\n",
    "    \"money\": 2,\n",
    "    \"free\": 1,\n",
    "    \"congratulations\": 4,\n",
    "    \"hello\": 9,\n",
    "    \"husband\": 8,\n",
    "    \"friend\": 8,\n",
    "    \"dear\": 8,\n",
    "    \"hello\": 7,\n",
    "}"
   ]
  },
  {
   "cell_type": "code",
   "execution_count": 58,
   "metadata": {},
   "outputs": [
    {
     "name": "stdout",
     "output_type": "stream",
     "text": [
      "total: 38\n",
      "total: 38\n"
     ]
    }
   ],
   "source": [
    "def get_dict_elements(custom_dict):\n",
    "    global total_counter\n",
    "    total_counter = 0\n",
    "    for word, counter in custom_dict.items():\n",
    "        total_counter = total_counter + counter\n",
    "    print(f\"total: {total_counter}\")\n",
    "\n",
    "get_dict_elements(custom_spam_dict)\n",
    "get_dict_elements(custom_not_spam_dict)"
   ]
  },
  {
   "cell_type": "code",
   "execution_count": 101,
   "metadata": {},
   "outputs": [],
   "source": [
    "def get_element_probability(target_word, custom_dict):\n",
    "    prob = None\n",
    "    total_prob = None\n",
    "    for word, counter in custom_dict.items():\n",
    "        if target_word == word:\n",
    "            prob = custom_dict[word] / total_counter\n",
    "            return prob\n"
   ]
  },
  {
   "cell_type": "code",
   "execution_count": 102,
   "metadata": {},
   "outputs": [
    {
     "data": {
      "text/plain": [
       "0.2631578947368421"
      ]
     },
     "execution_count": 102,
     "metadata": {},
     "output_type": "execute_result"
    }
   ],
   "source": [
    "get_element_probability(\"money\", custom_spam_dict)"
   ]
  },
  {
   "cell_type": "code",
   "execution_count": 103,
   "metadata": {},
   "outputs": [],
   "source": [
    "def get_string(target_string, custom_dict):\n",
    "    prob = None\n",
    "    target_str_arr = target_string.split(\" \")\n",
    "    for des_word in target_str_arr:\n",
    "        return get_element_probability(des_word, custom_spam_dict)"
   ]
  },
  {
   "cell_type": "code",
   "execution_count": 105,
   "metadata": {},
   "outputs": [
    {
     "data": {
      "text/plain": [
       "0.05263157894736842"
      ]
     },
     "execution_count": 105,
     "metadata": {},
     "output_type": "execute_result"
    }
   ],
   "source": [
    "get_string(\"hello dear friend\", custom_spam_dict)\n",
    "get_string(\"hello dear friend\", custom_not_spam_dict)"
   ]
  },
  {
   "cell_type": "code",
   "execution_count": null,
   "metadata": {},
   "outputs": [],
   "source": []
  }
 ],
 "metadata": {
  "kernelspec": {
   "display_name": ".venv",
   "language": "python",
   "name": "python3"
  },
  "language_info": {
   "codemirror_mode": {
    "name": "ipython",
    "version": 3
   },
   "file_extension": ".py",
   "mimetype": "text/x-python",
   "name": "python",
   "nbconvert_exporter": "python",
   "pygments_lexer": "ipython3",
   "version": "3.13.2"
  }
 },
 "nbformat": 4,
 "nbformat_minor": 2
}
