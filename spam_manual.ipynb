{
 "cells": [
  {
   "cell_type": "code",
   "execution_count": 1,
   "metadata": {},
   "outputs": [],
   "source": [
    "import pandas as pd\n",
    "import numpy as np\n",
    "import matplotlib.pyplot as plt\n",
    "import seaborn as sns"
   ]
  },
  {
   "cell_type": "code",
   "execution_count": 14,
   "metadata": {},
   "outputs": [],
   "source": [
    "\n",
    "custom_spam_dict = {\n",
    "    \"money\": 10,\n",
    "    \"free\": 11,\n",
    "    \"congratulations\": 9,\n",
    "    \"hello\": 3,\n",
    "    \"husband\": 1,\n",
    "    \"friend\": 1,\n",
    "    \"dear\": 2,\n",
    "    \"hello\": 2,\n",
    "}\n",
    "\n",
    "custom_not_spam_dict = {\n",
    "    \"money\": 2,\n",
    "    \"free\": 1,\n",
    "    \"congratulations\": 4,\n",
    "    \"hello\": 9,\n",
    "    \"husband\": 8,\n",
    "    \"friend\": 8,\n",
    "    \"dear\": 8,\n",
    "    \"hello\": 7,\n",
    "}"
   ]
  },
  {
   "cell_type": "code",
   "execution_count": 15,
   "metadata": {},
   "outputs": [],
   "source": [
    "def get_dict_elements(custom_dict):\n",
    "    for word, counter in custom_dict.items():\n",
    "        print(f\"{word}: {counter}\")\n",
    "    "
   ]
  },
  {
   "cell_type": "code",
   "execution_count": 17,
   "metadata": {},
   "outputs": [
    {
     "name": "stdout",
     "output_type": "stream",
     "text": [
      "money: 10\n",
      "free: 11\n",
      "congratulations: 9\n",
      "hello: 2\n",
      "husband: 1\n",
      "friend: 1\n",
      "dear: 2\n"
     ]
    }
   ],
   "source": [
    "get_dict_elements(custom_spam_dict)\n"
   ]
  },
  {
   "cell_type": "code",
   "execution_count": 18,
   "metadata": {},
   "outputs": [
    {
     "name": "stdout",
     "output_type": "stream",
     "text": [
      "money: 2\n",
      "free: 1\n",
      "congratulations: 4\n",
      "hello: 7\n",
      "husband: 8\n",
      "friend: 8\n",
      "dear: 8\n"
     ]
    }
   ],
   "source": [
    "get_dict_elements(custom_not_spam_dict)"
   ]
  },
  {
   "cell_type": "code",
   "execution_count": null,
   "metadata": {},
   "outputs": [],
   "source": []
  }
 ],
 "metadata": {
  "kernelspec": {
   "display_name": ".venv",
   "language": "python",
   "name": "python3"
  },
  "language_info": {
   "codemirror_mode": {
    "name": "ipython",
    "version": 3
   },
   "file_extension": ".py",
   "mimetype": "text/x-python",
   "name": "python",
   "nbconvert_exporter": "python",
   "pygments_lexer": "ipython3",
   "version": "3.13.2"
  }
 },
 "nbformat": 4,
 "nbformat_minor": 2
}
