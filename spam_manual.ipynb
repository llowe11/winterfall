{
 "cells": [
  {
   "cell_type": "code",
   "execution_count": 34,
   "metadata": {},
   "outputs": [],
   "source": [
    "import pandas as pd\n",
    "import numpy as np\n",
    "import matplotlib.pyplot as plt\n",
    "import seaborn as sns"
   ]
  },
  {
   "cell_type": "code",
   "execution_count": 35,
   "metadata": {},
   "outputs": [],
   "source": [
    "\n",
    "custom_spam_dict = {\n",
    "    \"money\": 10,\n",
    "    \"free\": 11,\n",
    "    \"congratulations\": 9,\n",
    "    \"hello\": 3,\n",
    "    \"husband\": 2,\n",
    "    \"friend\": 2,\n",
    "    \"dear\": 2,\n",
    "    \"hello\": 2,\n",
    "}\n",
    "\n",
    "custom_not_spam_dict = {\n",
    "    \"money\": 2,\n",
    "    \"free\": 1,\n",
    "    \"congratulations\": 4,\n",
    "    \"hello\": 9,\n",
    "    \"husband\": 8,\n",
    "    \"friend\": 8,\n",
    "    \"dear\": 8,\n",
    "    \"hello\": 7,\n",
    "}"
   ]
  },
  {
   "cell_type": "code",
   "execution_count": 36,
   "metadata": {},
   "outputs": [
    {
     "name": "stdout",
     "output_type": "stream",
     "text": [
      "total: 38\n",
      "total: 38\n"
     ]
    }
   ],
   "source": [
    "def get_dict_elements(custom_dict):\n",
    "    global total_counter\n",
    "    total_counter = 0\n",
    "    for word, counter in custom_dict.items():\n",
    "        total_counter = total_counter + counter\n",
    "    print(f\"total: {total_counter}\")\n",
    "\n",
    "total_spam = get_dict_elements(custom_spam_dict)\n",
    "total_not_spam = get_dict_elements(custom_not_spam_dict)"
   ]
  },
  {
   "cell_type": "code",
   "execution_count": 37,
   "metadata": {},
   "outputs": [],
   "source": [
    "def get_element_probability(target_word, custom_dict):\n",
    "    prob = None\n",
    "    for word, counter in custom_dict.items():\n",
    "        if target_word == word:\n",
    "            prob = custom_dict[word] / total_counter\n",
    "            return prob\n"
   ]
  },
  {
   "cell_type": "code",
   "execution_count": 38,
   "metadata": {},
   "outputs": [
    {
     "data": {
      "text/plain": [
       "0.2631578947368421"
      ]
     },
     "execution_count": 38,
     "metadata": {},
     "output_type": "execute_result"
    }
   ],
   "source": [
    "get_element_probability(\"money\", custom_spam_dict)"
   ]
  },
  {
   "cell_type": "code",
   "execution_count": 39,
   "metadata": {},
   "outputs": [],
   "source": [
    "def get_string(target_string, custom_dict):\n",
    "    prob = None\n",
    "    target_str_arr = target_string.split(\" \")\n",
    "    for des_word in target_str_arr:\n",
    "        return get_element_probability(des_word, custom_dict)"
   ]
  },
  {
   "cell_type": "code",
   "execution_count": 40,
   "metadata": {},
   "outputs": [],
   "source": [
    "test_string = input(\"enter test message\")"
   ]
  },
  {
   "cell_type": "code",
   "execution_count": 41,
   "metadata": {},
   "outputs": [
    {
     "name": "stdout",
     "output_type": "stream",
     "text": [
      "0.2894736842105263\n"
     ]
    }
   ],
   "source": [
    "spam_prob = get_string(test_string, custom_spam_dict)\n",
    "print(spam_prob)"
   ]
  },
  {
   "cell_type": "code",
   "execution_count": 42,
   "metadata": {},
   "outputs": [
    {
     "name": "stdout",
     "output_type": "stream",
     "text": [
      "0.02631578947368421\n"
     ]
    }
   ],
   "source": [
    "not_spam_prob = get_string(test_string, custom_not_spam_dict)\n",
    "print(not_spam_prob)"
   ]
  },
  {
   "cell_type": "code",
   "execution_count": 43,
   "metadata": {},
   "outputs": [
    {
     "name": "stdout",
     "output_type": "stream",
     "text": [
      "the message is spam\n"
     ]
    }
   ],
   "source": [
    "if spam_prob >= not_spam_prob:\n",
    "    print(\"the message is spam\")\n",
    "elif not_spam_prob > spam_prob:\n",
    "    print(\"not spam\")"
   ]
  }
 ],
 "metadata": {
  "kernelspec": {
   "display_name": ".venv",
   "language": "python",
   "name": "python3"
  },
  "language_info": {
   "codemirror_mode": {
    "name": "ipython",
    "version": 3
   },
   "file_extension": ".py",
   "mimetype": "text/x-python",
   "name": "python",
   "nbconvert_exporter": "python",
   "pygments_lexer": "ipython3",
   "version": "3.13.2"
  }
 },
 "nbformat": 4,
 "nbformat_minor": 2
}
