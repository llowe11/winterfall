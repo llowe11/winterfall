{
 "cells": [
  {
   "cell_type": "code",
   "execution_count": 106,
   "metadata": {},
   "outputs": [],
   "source": [
    "import re"
   ]
  },
  {
   "cell_type": "code",
   "execution_count": 107,
   "metadata": {},
   "outputs": [],
   "source": [
    "input_equation: str = input(\"enter the linear equation\")"
   ]
  },
  {
   "cell_type": "markdown",
   "metadata": {},
   "source": [
    "формула дескриминанта:\n",
    "D = b**2 - 4*a*c\n",
    "|\n",
    "формула корней:\n",
    "x = (-b +- D**0.5)/2a"
   ]
  },
  {
   "cell_type": "code",
   "execution_count": null,
   "metadata": {},
   "outputs": [],
   "source": [
    "#супер сильно наговнокодил и с большим количеством нюансов, мб переделаю в будущем\n",
    "#на будущее: при вводе x с квадратом сам квадрат вводить не надо\n",
    "def calculate_eq(input_str: str):\n",
    "    delimiters = r\"[/s]\"\n",
    "    divided_str = re.split(delimiters, input_str)\n",
    "    for compound in divided_str:\n",
    "        cleaned_comp = re.findall(r\"[-+]?\\d+\\.?\\d*\", compound)\n",
    "        a = cleaned_comp[0]\n",
    "        b = cleaned_comp[1]\n",
    "        c = cleaned_comp[2]\n",
    "        \n",
    "        a = float(a)\n",
    "        b = float(b)\n",
    "        c = float(c)\n",
    "\n",
    "        D = b**2 - 4 * a * c\n",
    "        if D>=0:\n",
    "            x1 = (-b - D**0.5)/ 2 * a\n",
    "            x2 = (-b + D**0.5)/ 2 * a\n",
    "            print(f\"x1: {x1}\")\n",
    "            print(f\"x2: {x2}\")\n",
    "        elif D<0:\n",
    "            print(\"D is less than 0, error\")\n",
    "    return x1,x2    \n",
    "    \n",
    "            \n",
    "    "
   ]
  },
  {
   "cell_type": "code",
   "execution_count": 109,
   "metadata": {},
   "outputs": [
    {
     "name": "stdout",
     "output_type": "stream",
     "text": [
      "x1: 30.96291201783626\n",
      "x2: 4.03708798216374\n"
     ]
    },
    {
     "data": {
      "text/plain": [
       "(30.96291201783626, 4.03708798216374)"
      ]
     },
     "execution_count": 109,
     "metadata": {},
     "output_type": "execute_result"
    }
   ],
   "source": [
    "calculate_eq(input_equation)"
   ]
  },
  {
   "cell_type": "code",
   "execution_count": 110,
   "metadata": {},
   "outputs": [
    {
     "name": "stdout",
     "output_type": "stream",
     "text": [
      "x1: 30.96291201783626\n",
      "x2: 4.03708798216374\n"
     ]
    },
    {
     "data": {
      "image/png": "[encoded data removed]",
      "text/plain": [
       "<Figure size 640x480 with 1 Axes>"
      ]
     },
     "metadata": {},
     "output_type": "display_data"
    }
   ],
   "source": [
    "import matplotlib.pyplot as plt\n",
    "import numpy as np\n",
    "x1, x2 = calculate_eq(input_equation)\n",
    "intersect_point_x = np.array([x1,x2])\n",
    "intersect_point_y = np.array([0,0])\n",
    "\n",
    "plt.plot(intersect_point_x, intersect_point_y, \"o\")\n",
    "plt.show()"
   ]
  }
 ],
 "metadata": {
  "kernelspec": {
   "display_name": ".venv",
   "language": "python",
   "name": "python3"
  },
  "language_info": {
   "codemirror_mode": {
    "name": "ipython",
    "version": 3
   },
   "file_extension": ".py",
   "mimetype": "text/x-python",
   "name": "python",
   "nbconvert_exporter": "python",
   "pygments_lexer": "ipython3",
   "version": "3.13.2"
  }
 },
 "nbformat": 4,
 "nbformat_minor": 2
}
